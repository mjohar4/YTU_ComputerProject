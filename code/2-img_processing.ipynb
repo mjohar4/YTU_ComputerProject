{
 "cells": [
  {
   "cell_type": "code",
   "execution_count": 1,
   "metadata": {},
   "outputs": [],
   "source": [
    "import cv2 as cv\n",
    "import datetime\n",
    "import sys\n",
    "\n",
    "import numpy as np\n",
    "import os\n",
    "from numba import jit\n",
    "import struct"
   ]
  },
  {
   "cell_type": "code",
   "execution_count": 2,
   "metadata": {},
   "outputs": [
    {
     "data": {
      "text/plain": [
       "iinfo(min=0, max=65535, dtype=uint16)"
      ]
     },
     "execution_count": 2,
     "metadata": {},
     "output_type": "execute_result"
    }
   ],
   "source": [
    "np.iinfo(np.uint16)"
   ]
  },
  {
   "cell_type": "code",
   "execution_count": 4,
   "metadata": {},
   "outputs": [],
   "source": [
    "def convert_kitti_bin_to_xyz(binFilePath):\n",
    "    size_float = 4\n",
    "    list_xyz = []\n",
    "    list_intensity = list()\n",
    "    with open(binFilePath, \"rb\") as f:\n",
    "        byte = f.read(size_float * 4)\n",
    "        while byte:\n",
    "            x, y, z, intensity = struct.unpack(\"ffff\", byte)\n",
    "            point = np.array([x, y, z])\n",
    "            list_intensity.append(intensity)\n",
    "            list_xyz.append(point)\n",
    "            byte = f.read(size_float * 4)\n",
    "    return list_xyz,list_intensity"
   ]
  },
  {
   "cell_type": "code",
   "execution_count": 5,
   "metadata": {},
   "outputs": [],
   "source": [
    "@jit(nopython=True)\n",
    "def fill_vals(img,range_img, height_img,intensity_img,v,u,z,range_xy,R,intensity):\n",
    "    px_max = 65535\n",
    "    for vv,uu,zz,xy,rr,ii in zip(v,u,z,range_xy,R,intensity):\n",
    "\n",
    "        img[int(uu)][int(vv)] = np.round((rr/120)*px_max)\n",
    "        range_img[int(uu)][int(vv)] = np.round((xy/120)*px_max)\n",
    "        height_img[int(uu)][int(vv)] = np.round(((zz+15)/15)*px_max)\n",
    "        intensity_img[int(uu)][int(vv)] = np.round(ii*px_max)\n",
    "\n",
    "    return img,range_img, height_img,intensity_img\n",
    "def convert_cloudPoints_to_img(xyz,intensity, rows,cols):\n",
    "    x = np.asarray(xyz[:,0])\n",
    "    y = np.asarray(xyz[:,1])\n",
    "    z = np.asarray(xyz[:,2])\n",
    "    R = np.sqrt(x*x+y*y+z*z)\n",
    "    range_xy = np.sqrt(x*x+y*y)\n",
    "    pitch =np.arcsin(z/R)\n",
    "    yaw = np.arctan2(y,x)\n",
    "    FOV_up = np.max(pitch)\n",
    "    FOV_down = np.min(pitch)\n",
    "    FOV = FOV_up - FOV_down\n",
    "    u = rows*((FOV_up - pitch)/(FOV))\n",
    "    v = cols*((yaw+np.pi)/(2*np.pi))\n",
    "    v = np.floor(v)\n",
    "    u = np.floor(u)\n",
    "    img = np.zeros((rows+1, cols+1),dtype=np.uint16)\n",
    "    range_img = img.copy()\n",
    "    height_img = img.copy()\n",
    "    intensity_img = img.copy()\n",
    "    img,range_img, height_img,intensity_img = fill_vals(img, range_img, height_img,intensity_img,v,u,z,range_xy,R,intensity)\n",
    "    img = cv.medianBlur(img,3)\n",
    "    range_img = cv.medianBlur(range_img,3)\n",
    "    height_img = cv.medianBlur(height_img,3)\n",
    "    intensity_img = cv.medianBlur(intensity_img,3)\n",
    "\n",
    "    return img,range_img,height_img,intensity_img"
   ]
  },
  {
   "cell_type": "code",
   "execution_count": 6,
   "metadata": {},
   "outputs": [],
   "source": [
    "\n",
    "def kitti_sequence_ot_360images_sequence(dataset_path,sequence_number):\n",
    "    poses_path = dataset_path + \"/poses/\"\n",
    "    sequences_path = dataset_path + \"/sequences/\"\n",
    "    sequences_dir_list =  sorted(os.listdir(sequences_path))\n",
    "    seq_dir = sequences_dir_list[sequence_number]\n",
    "    poses = None\n",
    "    colib_data = None\n",
    "    times_data = None\n",
    "    if sequence_number<11:\n",
    "        poses_file_list =  sorted(os.listdir(poses_path))\n",
    "        pose_file = poses_file_list[sequence_number]\n",
    "\n",
    "        poses = np.loadtxt(poses_path+pose_file, dtype=float)\n",
    "        poses = poses.reshape( poses.shape[0], 3, 4)\n",
    "\n",
    "        c_data = np.loadtxt(sequences_path+seq_dir+\"/calib.txt\", delimiter=' ', usecols=range(1,13), dtype=float)\n",
    "\n",
    "        colib_data = [np.array(i).reshape(3,4) for i in c_data]\n",
    "\n",
    "        colib_data=np.array(colib_data)\n",
    "        Tr = colib_data[4]\n",
    "        times_data = np.loadtxt(sequences_path+seq_dir+\"/times.txt\", dtype=float)\n",
    "\n",
    "\n",
    "\n",
    "    list_img360 = list()\n",
    "    list_range_img360 = list()\n",
    "    list_height_img360 = list()\n",
    "    list_intensity_img360 = list()\n",
    "    list_img_bird_eye_view = list()\n",
    "\n",
    "    velodyne_file_list = sorted(os.listdir(sequences_path+seq_dir+\"/velodyne/\"))\n",
    "    print(\"read files from :\"+ sequences_path+seq_dir+\"/velodyne:\")\n",
    "\n",
    "    for i in range(len(velodyne_file_list)):\n",
    "        print(f'{i+1}/{len(velodyne_file_list)}', end=\"\\r\")\n",
    "        sys.stdout.flush()\n",
    "        bin_file = sequences_path+seq_dir+\"/velodyne/\"+velodyne_file_list[i]\n",
    "        \n",
    "        xyz_val ,intensity= convert_kitti_bin_to_xyz(bin_file)\n",
    "        img,range_img,height_img,intensity_img = convert_cloudPoints_to_img(np.asarray(xyz_val), np.asarray(intensity), 64, 1024)\n",
    "        img_bird_eye_view = point_cloud_2_birdseye(np.asarray(xyz_val) )\n",
    "        list_img360.append(img)\n",
    "        list_range_img360.append(range_img)\n",
    "        list_height_img360.append(height_img)\n",
    "        list_intensity_img360.append(intensity_img) \n",
    "        list_img_bird_eye_view.append(img_bird_eye_view)\n",
    "        \n",
    " \n",
    "\n",
    "    return poses, colib_data, times_data, list_img360,list_range_img360,list_height_img360,list_intensity_img360,list_img_bird_eye_view"
   ]
  },
  {
   "cell_type": "code",
   "execution_count": 7,
   "metadata": {},
   "outputs": [],
   "source": [
    "def save_img_list(dataset_path,sequence_number,dataset_img_path, list_img360,list_range_img360,list_height_img360,list_intensity_img360,list_img_bird_eye_view):\n",
    "    sequences_path = dataset_path + \"/sequences/\"\n",
    "    sequences_dir_list =  sorted(os.listdir(sequences_path))\n",
    "    seq_dir = sequences_dir_list[sequence_number]\n",
    "    velodyne_file_list = sorted(os.listdir(sequences_path+seq_dir+\"/velodyne/\"))\n",
    "    img360_dir = dataset_img_path+ \"/sequences/\"+seq_dir+\"/img360\"\n",
    "    range_img360_dir = dataset_img_path+ \"/sequences/\"+seq_dir+\"/range_img360\"\n",
    "    height_img360_dir = dataset_img_path+ \"/sequences/\"+seq_dir+\"/height_img360\"\n",
    "    intensity_img360_dir = dataset_img_path+ \"/sequences/\"+seq_dir+\"/intensity_img360\"\n",
    "    bird_eye_view_img360_dir = dataset_img_path+ \"/sequences/\"+seq_dir+\"/bird_eye_view\"\n",
    "    try:\n",
    "        os.makedirs(img360_dir)\n",
    "        os.makedirs(range_img360_dir)\n",
    "        os.makedirs(height_img360_dir)\n",
    "        os.makedirs(intensity_img360_dir)\n",
    "        os.makedirs(bird_eye_view_img360_dir)\n",
    "\n",
    "    except FileExistsError:\n",
    "        print(\"File already exists\")\n",
    "    print('write at sequences '+seq_dir+':')\n",
    "\n",
    "    i=1\n",
    "    for bin_file_name,img360,range_img360,height_img360,intensity_img360, img_bird_eye_view in zip(velodyne_file_list,list_img360,list_range_img360,list_height_img360,list_intensity_img360,list_img_bird_eye_view):\n",
    "        print(f'{i}/{len(velodyne_file_list)}', end=\"\\r\")\n",
    "        sys.stdout.flush()\n",
    "        i=i+1\n",
    "        img_file = img360_dir+'/'+bin_file_name[:-4]+'.png'\n",
    "        range_file = range_img360_dir+'/'+bin_file_name[:-4]+'.png'\n",
    "        height_file = height_img360_dir+'/'+bin_file_name[:-4]+'.png'\n",
    "        intensity_file = intensity_img360_dir+'/'+bin_file_name[:-4]+'.png'\n",
    "        bird_eye_view_file = bird_eye_view_img360_dir+'/'+bin_file_name[:-4]+'.png'\n",
    "        cv.imwrite(img_file,img360)\n",
    "        cv.imwrite(range_file,range_img360)\n",
    "        cv.imwrite(height_file,height_img360)\n",
    "        cv.imwrite(intensity_file,intensity_img360)\n",
    "        cv.imwrite(bird_eye_view_file,img_bird_eye_view)"
   ]
  },
  {
   "cell_type": "code",
   "execution_count": 8,
   "metadata": {},
   "outputs": [],
   "source": [
    "dataset_path = \"/home/muhammed/ara/dataset\"\n",
    "dataset_img_path = '/home/muhammed/ara/dataset_img_v4'"
   ]
  },
  {
   "cell_type": "code",
   "execution_count": 9,
   "metadata": {},
   "outputs": [
    {
     "name": "stdout",
     "output_type": "stream",
     "text": [
      "read files from :/home/muhammed/ara/dataset/sequences/00/velodyne:\n",
      "write at sequences 00:\n",
      "read files from :/home/muhammed/ara/dataset/sequences/01/velodyne:\n",
      "277/1101\r"
     ]
    },
    {
     "ename": "",
     "evalue": "",
     "output_type": "error",
     "traceback": [
      "\u001b[1;31mThe Kernel crashed while executing code in the the current cell or a previous cell. Please review the code in the cell(s) to identify a possible cause of the failure. Click <a href='https://aka.ms/vscodeJupyterKernelCrash'>here</a> for more info. View Jupyter <a href='command:jupyter.viewOutput'>log</a> for further details."
     ]
    },
    {
     "ename": "",
     "evalue": "",
     "output_type": "error",
     "traceback": [
      "\u001b[1;31mCanceled future for execute_request message before replies were done"
     ]
    }
   ],
   "source": [
    "for sequence_number in range(22):\n",
    "    _, _, _, list_img360,list_range_img360,list_height_img360,list_intensity_img360,list_img_bird_eye_view = kitti_sequence_ot_360images_sequence(dataset_path,sequence_number)\n",
    "    save_img_list(dataset_path,sequence_number,dataset_img_path, list_img360,list_range_img360,list_height_img360,list_intensity_img360,list_img_bird_eye_view)"
   ]
  }
 ],
 "metadata": {
  "kernelspec": {
   "display_name": "Python 3 (ipykernel)",
   "language": "python",
   "name": "python3"
  },
  "language_info": {
   "codemirror_mode": {
    "name": "ipython",
    "version": 3
   },
   "file_extension": ".py",
   "mimetype": "text/x-python",
   "name": "python",
   "nbconvert_exporter": "python",
   "pygments_lexer": "ipython3",
   "version": "3.8.10 (default, Nov 14 2022, 12:59:47) \n[GCC 9.4.0]"
  },
  "vscode": {
   "interpreter": {
    "hash": "e7370f93d1d0cde622a1f8e1c04877d8463912d04d973331ad4851f04de6915a"
   }
  }
 },
 "nbformat": 4,
 "nbformat_minor": 2
}
